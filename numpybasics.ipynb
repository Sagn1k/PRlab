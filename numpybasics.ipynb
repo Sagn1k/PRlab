{
 "cells": [
  {
   "cell_type": "code",
   "execution_count": 1,
   "metadata": {
    "collapsed": true
   },
   "outputs": [],
   "source": [
    "import numpy as np\n",
    "import matplotlib.pyplot as plt"
   ]
  },
  {
   "cell_type": "code",
   "execution_count": 4,
   "metadata": {},
   "outputs": [
    {
     "name": "stdout",
     "output_type": "stream",
     "text": [
      "[ 1  4  9 16]\n",
      "[ 0  1  4  9 16 25 36 49 64 81]\n",
      "<type 'numpy.ndarray'>\n",
      "int64\n",
      "(4,)\n",
      "[[1 2]\n",
      " [3 4]]\n"
     ]
    }
   ],
   "source": [
    "hello = np.array([1, 2, 3, 4])\n",
    "print(hello** 2)\n",
    "print(np.arange(10)** 2)\n",
    "print(type(hello))\n",
    "print(hello.dtype)\n",
    "print(hello.shape)\n",
    "hello = hello.reshape(2, 2)\n",
    "print(hello)"
   ]
  },
  {
   "cell_type": "code",
   "execution_count": 5,
   "metadata": {},
   "outputs": [
    {
     "name": "stdout",
     "output_type": "stream",
     "text": [
      "(3, 3)\n",
      "5\n",
      "4\n",
      "4.5\n",
      "8.25\n",
      "[ 0.  1.  2.  3.  4.  5.  6.  7.  8.  9.]\n",
      "[ 9.  8.  7.  6.  5.  4.  3.  2.  1.  0.]\n",
      "50\n",
      "(array([2, 5, 8]),)\n",
      "[15 30 45]\n",
      "[15 30 45]\n"
     ]
    }
   ],
   "source": [
    "hi = np.arange(3*3).reshape(3, 3)\n",
    "print(hi.shape)\n",
    "print(hi[1, 2])\n",
    "ok = np.arange(10, dtype='f')\n",
    "print(ok.dtype.itemsize)\n",
    "print(ok.mean())\n",
    "print(ok.var())\n",
    "print(ok.T)\n",
    "print(ok[len(ok)::-1])\n",
    "print(np.linspace(9,10).size)\n",
    "neo = np.arange(5,50,5)\n",
    "print(np.where(neo%15==0))\n",
    "print(neo[np.where(neo%15==0)])\n",
    "print(neo[neo%15==0])"
   ]
  },
  {
   "cell_type": "code",
   "execution_count": 6,
   "metadata": {},
   "outputs": [
    {
     "name": "stdout",
     "output_type": "stream",
     "text": [
      "          2\n",
      "-0.08792 x + 0.06999 x + 0.005773\n"
     ]
    },
    {
     "data": {
      "image/png": "[encoded data removed]",
      "text/plain": [
       "<matplotlib.figure.Figure at 0x7f64f21c8350>"
      ]
     },
     "metadata": {},
     "output_type": "display_data"
    }
   ],
   "source": [
    "x = np.random.normal(0,1,100)\n",
    "y = np.random.normal(0,1,100)\n",
    "fp1 = np.polyfit(x,y,2)\n",
    "fx = np.poly1d(fp1)\n",
    "print(fx)\n",
    "y = np.random.normal(0,1,100)\n",
    "plt.scatter(x,y)\n",
    "plt.plot(x, fx(x), 'green')\n",
    "plt.show()"
   ]
  },
  {
   "cell_type": "code",
   "execution_count": null,
   "metadata": {
    "collapsed": true
   },
   "outputs": [],
   "source": []
  }
 ],
 "metadata": {
  "kernelspec": {
   "display_name": "Python 2",
   "language": "python",
   "name": "python2"
  },
  "language_info": {
   "codemirror_mode": {
    "name": "ipython",
    "version": 2
   },
   "file_extension": ".py",
   "mimetype": "text/x-python",
   "name": "python",
   "nbconvert_exporter": "python",
   "pygments_lexer": "ipython2",
   "version": "2.7.12"
  }
 },
 "nbformat": 4,
 "nbformat_minor": 2
}
